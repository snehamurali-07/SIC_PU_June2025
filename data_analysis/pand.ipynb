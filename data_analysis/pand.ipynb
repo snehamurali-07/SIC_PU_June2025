{
 "cells": [
  {
   "cell_type": "code",
   "execution_count": 1,
   "id": "84a2dab6",
   "metadata": {},
   "outputs": [
    {
     "name": "stdout",
     "output_type": "stream",
     "text": [
      "      Name  Age         City\n",
      "0    Alice   25     New York\n",
      "1      Bob   30  Los Angeles\n",
      "2  Charlie   35      Chicago\n"
     ]
    }
   ],
   "source": [
    "import pandas as pd\n",
    "\n",
    "data = {\n",
    "    'Name': ['Alice', 'Bob', 'Charlie'],\n",
    "    'Age': [25, 30, 35],\n",
    "    'City': ['New York', 'Los Angeles', 'Chicago']\n",
    "}\n",
    "df = pd.DataFrame(data)  # Converts dictionary into a DataFrame\n",
    "print(df)"
   ]
  },
  {
   "cell_type": "code",
   "execution_count": 2,
   "id": "a823899d",
   "metadata": {},
   "outputs": [
    {
     "name": "stdout",
     "output_type": "stream",
     "text": [
      "    Name    Age   City\n",
      "0  False  False  False\n",
      "1  False   True  False\n",
      "2   True  False  False\n",
      "Name    1\n",
      "Age     1\n",
      "City    0\n",
      "dtype: int64\n"
     ]
    }
   ],
   "source": [
    "df = pd.DataFrame({\n",
    "    'Name': ['Alice', 'Bob', None],\n",
    "    'Age': [25, None, 35],\n",
    "    'City': ['New York', 'Los Angeles', 'Chicago']\n",
    "})\n",
    "print(df.isnull())  # Identifies missing values\n",
    "print(df.isnull().sum())  # Counts missing values per column"
   ]
  },
  {
   "cell_type": "code",
   "execution_count": 3,
   "id": "f4f240d2",
   "metadata": {},
   "outputs": [
    {
     "name": "stdout",
     "output_type": "stream",
     "text": [
      "0    Alice\n",
      "1      Bob\n",
      "2     None\n",
      "Name: Name, dtype: object\n",
      "0    25.0\n",
      "1     NaN\n",
      "2    35.0\n",
      "Name: Age, dtype: float64\n"
     ]
    }
   ],
   "source": [
    "print(df['Name'])  # Access column using dictionary-style indexing\n",
    "print(df.Age)      # Access column using dot notation"
   ]
  },
  {
   "cell_type": "code",
   "execution_count": 5,
   "id": "f5c4b91e",
   "metadata": {},
   "outputs": [
    {
     "name": "stdout",
     "output_type": "stream",
     "text": [
      "   Name   Age     City\n",
      "2  None  35.0  Chicago\n"
     ]
    }
   ],
   "source": [
    "filtered_df = df[df['Age'] > 25]  # Selects rows where Age > 25\n",
    "print(filtered_df)"
   ]
  },
  {
   "cell_type": "code",
   "execution_count": 6,
   "id": "5704facf",
   "metadata": {},
   "outputs": [
    {
     "name": "stdout",
     "output_type": "stream",
     "text": [
      "                  Salary               \n",
      "                    mean     sum    max\n",
      "Department                             \n",
      "HR          56500.000000  113000  58000\n",
      "IT          68333.333333  205000  75000\n"
     ]
    }
   ],
   "source": [
    "data = {\n",
    "    'Department': ['IT', 'HR', 'IT', 'HR', 'IT'],\n",
    "    'Salary': [60000, 55000, 70000, 58000, 75000]\n",
    "}\n",
    "\n",
    "df = pd.DataFrame(data)\n",
    "\n",
    "# Grouping by Department and calculating mean, sum, and max salary\n",
    "grouped_df = df.groupby('Department').agg({'Salary': ['mean', 'sum', 'max']})  \n",
    "print(grouped_df)\n",
    "\n",
    "#select department, avg(salary) as avg_salary from employees groupby dept having dept in['teaching', 'non-teaching']"
   ]
  }
 ],
 "metadata": {
  "kernelspec": {
   "display_name": "Python 3",
   "language": "python",
   "name": "python3"
  },
  "language_info": {
   "codemirror_mode": {
    "name": "ipython",
    "version": 3
   },
   "file_extension": ".py",
   "mimetype": "text/x-python",
   "name": "python",
   "nbconvert_exporter": "python",
   "pygments_lexer": "ipython3",
   "version": "3.13.2"
  }
 },
 "nbformat": 4,
 "nbformat_minor": 5
}
