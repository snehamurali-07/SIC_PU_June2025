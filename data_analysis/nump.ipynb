{
 "cells": [
  {
   "cell_type": "code",
   "execution_count": 2,
   "id": "255ebd4e",
   "metadata": {},
   "outputs": [
    {
     "name": "stdout",
     "output_type": "stream",
     "text": [
      "Array1 = [0. 0. 0.]\n",
      "Array2 = [[0. 0. 0. 0.]]\n",
      "Array3 = [[0. 0. 0. 0. 0.]\n",
      " [0. 0. 0. 0. 0.]]\n"
     ]
    }
   ],
   "source": [
    "import numpy as np\n",
    "array1 = np.zeros(3)\n",
    "print(f'Array1 = {array1}')\n",
    "\n",
    "array2 = np.zeros((1, 4))\n",
    "print(f'Array2 = {array2}')\n",
    "\n",
    "array3 = np.zeros((2, 5))\n",
    "print(f'Array3 = {array3}')"
   ]
  },
  {
   "cell_type": "code",
   "execution_count": null,
   "id": "86d7ba1d",
   "metadata": {},
   "outputs": [
    {
     "name": "stdout",
     "output_type": "stream",
     "text": [
      "0.0 0.0\n",
      "0.0 0.0\n",
      "0.0 0.0\n"
     ]
    }
   ],
   "source": [
    "array1 = np.zeros(3)\n",
    "array2 = np.zeros((1, 4))\n",
    "array3 = np.zeros((2, 5))\n",
    "\n",
    "print(array1[0], array1[2])\n",
    "print(array2[0][0], array2[0][3])\n",
    "print(array3[1][0], array3[1][3])"
   ]
  },
  {
   "cell_type": "code",
   "execution_count": 4,
   "id": "699cee8a",
   "metadata": {},
   "outputs": [
    {
     "name": "stdout",
     "output_type": "stream",
     "text": [
      "<class 'numpy.ndarray'>\n",
      "<class 'numpy.ndarray'>\n",
      "<class 'numpy.float64'>\n",
      "<class 'numpy.ndarray'>\n",
      "<class 'numpy.float64'>\n"
     ]
    }
   ],
   "source": [
    "array1 = np.zeros(3)\n",
    "array2 = np.zeros((1, 4))\n",
    "array3 = np.zeros((2, 5))\n",
    "\n",
    "print(type(array1))\n",
    "print(type(array2))\n",
    "print(type(array1[0]))\n",
    "print(type(array2[0]))\n",
    "print(type(array2[0][0]))"
   ]
  },
  {
   "cell_type": "code",
   "execution_count": 5,
   "id": "a06da2c6",
   "metadata": {},
   "outputs": [
    {
     "name": "stdout",
     "output_type": "stream",
     "text": [
      "[[5 5 5 5]\n",
      " [5 5 5 5]]\n",
      "[[10 10 10 10 10]]\n"
     ]
    }
   ],
   "source": [
    "array1 = np.full((2, 4), 5)\n",
    "print(array1)\n",
    "array2 = np.full((1,5), 10)\n",
    "# Here array2 is still a ndarray\n",
    "print(array2)\n",
    "\n",
    "array1 = np.full((2, 4), 5, dtype=int)\n",
    "array1 = np.full((2, 4), 5, dtype=np.float64)"
   ]
  },
  {
   "cell_type": "code",
   "execution_count": 6,
   "id": "1d3ca807",
   "metadata": {},
   "outputs": [
    {
     "name": "stdout",
     "output_type": "stream",
     "text": [
      "[1 2 3 4 5 6 7 8 9] \n",
      "\n",
      "[[1 2 3]\n",
      " [4 5 6]\n",
      " [7 8 9]] \n",
      "\n",
      "[1 2 3 4 5 6 7 8 9]\n",
      "[[1 2 3 4 5 6 7 8 9]]\n"
     ]
    },
    {
     "ename": "ValueError",
     "evalue": "cannot reshape array of size 9 into shape (2,5)",
     "output_type": "error",
     "traceback": [
      "\u001b[31m---------------------------------------------------------------------------\u001b[39m",
      "\u001b[31mValueError\u001b[39m                                Traceback (most recent call last)",
      "\u001b[36mCell\u001b[39m\u001b[36m \u001b[39m\u001b[32mIn[6]\u001b[39m\u001b[32m, line 15\u001b[39m\n\u001b[32m     12\u001b[39m arr = arr.reshape(\u001b[32m1\u001b[39m, \u001b[32m9\u001b[39m) \u001b[38;5;66;03m# generates 2D array\u001b[39;00m\n\u001b[32m     13\u001b[39m \u001b[38;5;28mprint\u001b[39m(arr)\n\u001b[32m---> \u001b[39m\u001b[32m15\u001b[39m arr = \u001b[43marr\u001b[49m\u001b[43m.\u001b[49m\u001b[43mreshape\u001b[49m\u001b[43m(\u001b[49m\u001b[32;43m2\u001b[39;49m\u001b[43m,\u001b[49m\u001b[43m \u001b[49m\u001b[32;43m5\u001b[39;49m\u001b[43m)\u001b[49m \u001b[38;5;66;03m# ValueError\u001b[39;00m\n\u001b[32m     16\u001b[39m \u001b[38;5;28mprint\u001b[39m(arr)\n",
      "\u001b[31mValueError\u001b[39m: cannot reshape array of size 9 into shape (2,5)"
     ]
    }
   ],
   "source": [
    "arr = np.arange(1, 10)\n",
    "print(arr, '\\n')\n",
    "\n",
    "# Reshape to 3x3 matrix\n",
    "arr = arr.reshape(3, 3)\n",
    "print(arr, '\\n')\n",
    "\n",
    "# Reshape back to the original size\n",
    "arr = arr.reshape(9) # generates 1D array\n",
    "print(arr)\n",
    "\n",
    "arr = arr.reshape(1, 9) # generates 2D array\n",
    "print(arr)\n",
    "\n",
    "arr = arr.reshape(2, 5) # ValueError\n",
    "print(arr)"
   ]
  },
  {
   "cell_type": "code",
   "execution_count": 7,
   "id": "93113174",
   "metadata": {},
   "outputs": [
    {
     "name": "stdout",
     "output_type": "stream",
     "text": [
      "Matrix3=\n",
      " [[31 62]\n",
      " [42 92]]\n"
     ]
    }
   ],
   "source": [
    "matrix1 = np.array([[3, 4, 5], [2, 6, 9]])\n",
    "matrix2 = np.array([[3, 4], [3, 5], [2, 6]])\n",
    "\n",
    "matrix3 = np.dot(matrix1, matrix2)\n",
    "\n",
    "print('Matrix3=\\n', matrix3)"
   ]
  },
  {
   "cell_type": "code",
   "execution_count": 8,
   "id": "b3465528",
   "metadata": {},
   "outputs": [
    {
     "name": "stdout",
     "output_type": "stream",
     "text": [
      "[[ 5  8  8]\n",
      " [ 4  6 28]]\n",
      "[[  1  -2   0]\n",
      " [  0   0 -10]]\n",
      "[[  6  15  16]\n",
      " [  4   9 171]]\n",
      "[[1.5        0.6        1.        ]\n",
      " [1.         1.         0.47368421]]\n"
     ]
    }
   ],
   "source": [
    "matrix1 = np.array([[3, 3, 4], [2, 3, 9]])\n",
    "matrix2 = np.array([[2, 5, 4], [2, 3, 19]])\n",
    "\n",
    "sum_matrix = matrix1 + matrix2\n",
    "difference_matrix = matrix1 - matrix2\n",
    "product_matrix = matrix1 * matrix2\n",
    "quotient_matrix = matrix1 / matrix2\n",
    "\n",
    "print(sum_matrix)\n",
    "print(difference_matrix)\n",
    "print(product_matrix)\n",
    "print(quotient_matrix)"
   ]
  },
  {
   "cell_type": "code",
   "execution_count": null,
   "id": "4b121b89",
   "metadata": {},
   "outputs": [],
   "source": []
  }
 ],
 "metadata": {
  "kernelspec": {
   "display_name": "Python 3",
   "language": "python",
   "name": "python3"
  },
  "language_info": {
   "codemirror_mode": {
    "name": "ipython",
    "version": 3
   },
   "file_extension": ".py",
   "mimetype": "text/x-python",
   "name": "python",
   "nbconvert_exporter": "python",
   "pygments_lexer": "ipython3",
   "version": "3.13.2"
  }
 },
 "nbformat": 4,
 "nbformat_minor": 5
}
